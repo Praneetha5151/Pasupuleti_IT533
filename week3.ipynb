{
  "nbformat": 4,
  "nbformat_minor": 0,
  "metadata": {
    "colab": {
      "name": "week3.ipynb",
      "provenance": [],
      "authorship_tag": "ABX9TyP4cHv/Jf8faNb6EwKkz1fN",
      "include_colab_link": true
    },
    "kernelspec": {
      "name": "python3",
      "display_name": "Python 3"
    },
    "language_info": {
      "name": "python"
    }
  },
  "cells": [
    {
      "cell_type": "markdown",
      "metadata": {
        "id": "view-in-github",
        "colab_type": "text"
      },
      "source": [
        "<a href=\"https://colab.research.google.com/github/Praneetha5151/Pasupuleti_IT533/blob/main/week3.ipynb\" target=\"_parent\"><img src=\"https://colab.research.google.com/assets/colab-badge.svg\" alt=\"Open In Colab\"/></a>"
      ]
    },
    {
      "cell_type": "code",
      "execution_count": null,
      "metadata": {
        "id": "twvzxT5PJ325"
      },
      "outputs": [],
      "source": [
        "import numpy as np\n",
        "import pandas as pd \n",
        "import matplotlib.pyplot as plt\n",
        "amazon = pd.read_csv(\"https://raw.githubusercontent.com/Praneetha5151/Pasupuleti_IT533/main/amazon_toy_sample_clean.csv\",encoding=\"ISO-8859-1\")\n",
        "amazon.dropna(inplace=True)"
      ]
    },
    {
      "cell_type": "code",
      "source": [
        "a = amazon\n",
        "a.head()"
      ],
      "metadata": {
        "id": "Y7evClZ-KUL_"
      },
      "execution_count": null,
      "outputs": []
    },
    {
      "cell_type": "markdown",
      "source": [
        "1. Data Transformation: Pick three variables whose data types may be more useful as another data type and utransform them to numeric or character/ categorical format. Then, insert a text section into your notebook and explain in no less than 3 sentences what this transformation will allow you to accomplish analytically later on."
      ],
      "metadata": {
        "id": "S23j0Iyl0kYU"
      }
    },
    {
      "cell_type": "code",
      "source": [
        "# First Variable: status\n",
        "# First, we back the dataframe up.\n",
        "a1=amazon\n",
        "\n",
        "# Now we build the column and copy the original values into it\n",
        "a1['status_num'] = a1.status\n",
        "\n",
        "# Third, we convert state_num into categorical\n",
        "a1['status_num']= a1['status_num'].astype('category')\n",
        "\n",
        "# Then, we replace the strings with the category indices\n",
        "a1['status_num']= a1['status_num'].cat.codes\n",
        "\n",
        "# Now, we check the data types\n",
        "a1.dtypes[['status','status_num']]"
      ],
      "metadata": {
        "colab": {
          "base_uri": "https://localhost:8080/"
        },
        "id": "vgBRQE4ZKZPG",
        "outputId": "1f61bc15-bdaf-40e9-e249-9bbf923b8055"
      },
      "execution_count": null,
      "outputs": [
        {
          "output_type": "execute_result",
          "data": {
            "text/plain": [
              "status        object\n",
              "status_num      int8\n",
              "dtype: object"
            ]
          },
          "metadata": {},
          "execution_count": 6
        }
      ]
    },
    {
      "cell_type": "code",
      "source": [
        "a1.head()"
      ],
      "metadata": {
        "id": "mg9Dq7jdKocU"
      },
      "execution_count": null,
      "outputs": []
    },
    {
      "cell_type": "code",
      "source": [
        "# Second Variable: status\n",
        "# First, we back the dataframe up.\n",
        "a1=amazon\n",
        "\n",
        "# Now we build the column and copy the original values into it\n",
        "a1['manufacturer_num'] = a1.manufacturer\n",
        "\n",
        "# Third, we convert manufacturer_num into categorical\n",
        "a1['manufacturer_num']= a1['manufacturer_num'].astype('category')\n",
        "\n",
        "# Then, we replace the strings with the category indices\n",
        "a1['manufacturer_num']= a1['manufacturer_num'].cat.codes\n",
        "\n",
        "# Now, we check the data types\n",
        "a1.dtypes[['manufacturer','manufacturer_num']]"
      ],
      "metadata": {
        "id": "idVZPZjlO7F5"
      },
      "execution_count": null,
      "outputs": []
    },
    {
      "cell_type": "code",
      "source": [
        "a1.head()"
      ],
      "metadata": {
        "id": "AbLwlpNKPRkt"
      },
      "execution_count": null,
      "outputs": []
    },
    {
      "cell_type": "code",
      "source": [
        "# Third Variable: pledged\n",
        "# First, we back the dataframe up.\n",
        "a1=amazon\n",
        "\n",
        "# Now we build the column and copy the original values into it\n",
        "a1['average_review_rating_of_5_int'] = a1.average_review_rating_of_5\n",
        "\n",
        "# Third, we convert pledged_num into int32\n",
        "a1['average_review_rating_of_5_int']= a1['average_review_rating_of_5_int'].astype('int32')\n",
        "\n",
        "# Now, we check the data types\n",
        "a1.dtypes[['average_review_rating_of_5','average_review_rating_of_5_int']]"
      ],
      "metadata": {
        "id": "AStyijILP0Ir"
      },
      "execution_count": null,
      "outputs": []
    },
    {
      "cell_type": "code",
      "source": [
        "a1.head()"
      ],
      "metadata": {
        "id": "GybviIdJQODO"
      },
      "execution_count": null,
      "outputs": []
    },
    {
      "cell_type": "markdown",
      "source": [
        "Here Data transformation is done on status, manufacturer, average_review_rating_of_5.\n",
        "\n",
        "status data transformation to categorical makes us to make categories in status values.\n",
        "\n",
        "manufacturer data transformation to categorical makes us to make categories in manufacturer values.\n",
        "\n",
        "average_review_rating_of_5 transformation to integer makes us to know how many reviews comes under review."
      ],
      "metadata": {
        "id": "xT7RFX231Lmv"
      }
    },
    {
      "cell_type": "markdown",
      "source": [
        "2. Data Substitution: Substitute values in at least two variables. Insert a text section into your notebook and explain in no less than 3 sentences how you decided what values to use for substitution and, in addition to your explanation, show your code."
      ],
      "metadata": {
        "id": "DLeezXd20dst"
      }
    },
    {
      "cell_type": "code",
      "source": [
        "a2 = amazon\n",
        "a2.customer_questions_and_answers.unique()"
      ],
      "metadata": {
        "id": "wQxgCtc7Qh5g"
      },
      "execution_count": null,
      "outputs": []
    },
    {
      "cell_type": "code",
      "source": [
        "# Instead of building another column to see any transformations, we will substitute data in place this time around.\n",
        "# For this purpose, we're using the replace() method from pandas\n",
        "a2.customer_questions_and_answers.replace('None','0', inplace=True)\n",
        "\n",
        "# Did we indeed replace all '?'? Let's check:\n",
        "a2[a2['customer_questions_and_answers'] == 'None']"
      ],
      "metadata": {
        "id": "VUEZMMDzRS1Q"
      },
      "execution_count": null,
      "outputs": []
    },
    {
      "cell_type": "code",
      "source": [
        "a2.head()"
      ],
      "metadata": {
        "id": "R06OCR5QRlQr"
      },
      "execution_count": null,
      "outputs": []
    },
    {
      "cell_type": "code",
      "source": [
        "a2.description.unique()"
      ],
      "metadata": {
        "id": "kuPgiOMASV_3"
      },
      "execution_count": null,
      "outputs": []
    },
    {
      "cell_type": "code",
      "source": [
        "# Instead of building another column to see any transformations, we will substitute data in place this time around.\n",
        "# For this purpose, we're using the replace() method from pandas\n",
        "a2.description.replace('Manufacturer\\'s Description not available','Not Available', inplace=True)\n",
        "\n",
        "# Did we indeed replace all '?'? Let's check:\n",
        "a2[a2['description'] == 'Manufacturer\\'s Description not available']"
      ],
      "metadata": {
        "id": "He2hlwUaSfYI"
      },
      "execution_count": null,
      "outputs": []
    },
    {
      "cell_type": "code",
      "source": [
        "a2.head()"
      ],
      "metadata": {
        "id": "NfmjGKDzSza9"
      },
      "execution_count": null,
      "outputs": []
    },
    {
      "cell_type": "markdown",
      "source": [
        "Data substitution is done on customer_questions_and_answers and description.\n",
        "\n",
        "In description variable replacing Manufacturer's Description not available to Not available to be precise.\n",
        "\n",
        "In customer_questions_and_answers variable replacing None as 0 to be understand clearly."
      ],
      "metadata": {
        "id": "8BWpbl2s48m2"
      }
    },
    {
      "cell_type": "markdown",
      "source": [
        "Question 3: Data Reduction: Pick two variables that could be simplified by binning or bucketing, or by normalization or standardization. Then perform the operation(s) you have chosen. Insert a text section into your notebook and explain in no less than 3 sentences what benefit this may provide for any later analysis."
      ],
      "metadata": {
        "id": "0TdcjoBrTn3p"
      }
    },
    {
      "cell_type": "code",
      "source": [
        "a1.average_review_rating_of_5\t.describe()"
      ],
      "metadata": {
        "id": "jUb69IllTnQS"
      },
      "execution_count": null,
      "outputs": []
    },
    {
      "cell_type": "code",
      "source": [
        "# Variable 2: usd_goal_real simplified by using Bucketing method.\n",
        "# Setting up our 5 buckets and their labels\n",
        "buckets = [ 0, 1, 2, 3, 4, 5]\n",
        "bucketlabels = ['very bad','bad', 'Average', 'Good', 'Very Good']\n",
        "\n",
        "# Using cut() to separate data into the buckets we have built\n",
        "a1['buckets'] = pd.cut(a1['average_review_rating_of_5'] , bins=buckets, labels=bucketlabels, include_lowest=True)\n",
        "\n",
        "# Check if we have the new attribute 'buckets' at the end of our dataset\n",
        "a1.head()"
      ],
      "metadata": {
        "id": "K07h3JdhTanP"
      },
      "execution_count": null,
      "outputs": []
    },
    {
      "cell_type": "code",
      "source": [
        "a3.groupby(['buckets']).count()"
      ],
      "metadata": {
        "id": "pQAH-5-uWm8h"
      },
      "execution_count": null,
      "outputs": []
    },
    {
      "cell_type": "markdown",
      "source": [
        "Question **3** : Variable 2"
      ],
      "metadata": {
        "id": "sen4KBI_WqWN"
      }
    },
    {
      "cell_type": "code",
      "source": [
        "a1.number_of_reviews.describe()"
      ],
      "metadata": {
        "id": "0APFYmOEVQ-a"
      },
      "execution_count": null,
      "outputs": []
    },
    {
      "cell_type": "code",
      "source": [
        "bins = np.linspace(a1.number_of_reviews.min(),a1.number_of_reviews.max(),5)\n",
        "bins"
      ],
      "metadata": {
        "id": "BMZOvQ_6U_Ro"
      },
      "execution_count": null,
      "outputs": []
    },
    {
      "cell_type": "code",
      "source": [
        "labels = ['very_Few', 'Few','more','many']"
      ],
      "metadata": {
        "id": "lDVDn5VHVZWl"
      },
      "execution_count": null,
      "outputs": []
    },
    {
      "cell_type": "code",
      "source": [
        "# Variable 1: backers simplified by using Binning methods.\n",
        "a3 = amazon \n",
        "a3['bins'] = pd.cut(a3['number_of_reviews'], bins=bins, labels=labels, include_lowest=True)\n",
        "a3.head()"
      ],
      "metadata": {
        "id": "fWDUE5nbWDjt"
      },
      "execution_count": null,
      "outputs": []
    },
    {
      "cell_type": "code",
      "source": [
        "a3.groupby(['bins']).count()"
      ],
      "metadata": {
        "id": "Zp_2PPg0WaIN"
      },
      "execution_count": null,
      "outputs": []
    },
    {
      "cell_type": "markdown",
      "source": [
        "Data Reduction done on number_of_reviews and average_review_rating_of_5 using bucketing and binning methods.\n"
      ],
      "metadata": {
        "id": "5bSfJxSn6-rW"
      }
    },
    {
      "cell_type": "markdown",
      "source": [
        "*4. Now that you have a better dataset, think about any important organizational analytical questions that management could ask about the dataset in order to help them make business or organizational decisions. *\n",
        "\n",
        "What can we analysis with the average rating of 5?"
      ],
      "metadata": {
        "id": "7ng0i_Gsymoj"
      }
    }
  ]
}